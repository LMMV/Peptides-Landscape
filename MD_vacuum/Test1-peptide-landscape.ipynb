{
 "cells": [
  {
   "cell_type": "code",
   "execution_count": 1,
   "id": "7986998a-a40c-4414-ab40-1b3f1ee2562a",
   "metadata": {},
   "outputs": [],
   "source": [
    "import openmm as mm\n",
    "from openmm import app as app\n",
    "from openmm import unit as u\n",
    "import sys"
   ]
  },
  {
   "cell_type": "code",
   "execution_count": 4,
   "id": "1ded77c8-b79d-49ec-9d8b-88022bb86a5e",
   "metadata": {},
   "outputs": [
    {
     "ename": "ModuleNotFoundError",
     "evalue": "No module named 'PDBFixer'",
     "output_type": "error",
     "traceback": [
      "\u001b[0;31m---------------------------------------------------------------------------\u001b[0m",
      "\u001b[0;31mModuleNotFoundError\u001b[0m                       Traceback (most recent call last)",
      "Cell \u001b[0;32mIn[4], line 1\u001b[0m\n\u001b[0;32m----> 1\u001b[0m \u001b[38;5;28;01mimport\u001b[39;00m \u001b[38;5;21;01mPDBFixer\u001b[39;00m\n",
      "\u001b[0;31mModuleNotFoundError\u001b[0m: No module named 'PDBFixer'"
     ]
    }
   ],
   "source": [
    "import PDBFixer"
   ]
  },
  {
   "cell_type": "markdown",
   "id": "3ee000f5-dc46-46b0-b939-3a8eb9101a7e",
   "metadata": {},
   "source": [
    "### Script de OpenMM\n"
   ]
  },
  {
   "cell_type": "markdown",
   "id": "9be18fb1-40c9-4e3d-a4b2-be83648a8775",
   "metadata": {},
   "source": [
    "#### Cargar el archivo PDB"
   ]
  },
  {
   "cell_type": "code",
   "execution_count": 2,
   "id": "9e2e52bd-6ef3-4f7c-8017-e1fdc19717b8",
   "metadata": {},
   "outputs": [],
   "source": [
    "pdb = app.PDBFile('peptide.pdb')"
   ]
  },
  {
   "cell_type": "code",
   "execution_count": null,
   "id": "b1aeaa7b-e000-4d7a-bc31-20ba222129d8",
   "metadata": {},
   "outputs": [],
   "source": []
  },
  {
   "cell_type": "code",
   "execution_count": null,
   "id": "f519ca38-a18e-4ef3-8dc8-8dbe248697fc",
   "metadata": {},
   "outputs": [],
   "source": []
  },
  {
   "cell_type": "markdown",
   "id": "83fa49f5-45f8-4350-aaf3-3e9b47054494",
   "metadata": {},
   "source": [
    "#### Campo de fuerza para utilizar en la simulación"
   ]
  },
  {
   "cell_type": "code",
   "execution_count": null,
   "id": "b7a7f275-3099-4a25-a0e8-af1cf84c8d83",
   "metadata": {},
   "outputs": [],
   "source": [
    "forcefield = app.ForceField('amber14-all.xml')"
   ]
  },
  {
   "cell_type": "markdown",
   "id": "d389b4f1-2dd5-414e-9f26-ff132cfd1d41",
   "metadata": {},
   "source": [
    "#### Campo de fuerza y topología molecular"
   ]
  },
  {
   "cell_type": "code",
   "execution_count": null,
   "id": "829787c6-743b-45c6-ba6b-d688d2fbff8d",
   "metadata": {},
   "outputs": [],
   "source": [
    "system = forcefield.createSystem(pdb.topology, nonbondedMethod = app.NoCutoff,\n",
    "         constraints = app.HBonds)\n",
    "\n"
   ]
  },
  {
   "cell_type": "markdown",
   "id": "6600d997-58fc-47a4-a1d2-c8fbdf778b3d",
   "metadata": {},
   "source": [
    "#### Integrador \n",
    "\n",
    "Utilizando dinámica de Langevin, utilizando los parametros:\n",
    "\n",
    "Temperatura: 300 K | Coeficiente de fricción i ps-1 | Tamaño del paso 0.004 ps"
   ]
  },
  {
   "cell_type": "code",
   "execution_count": null,
   "id": "c72a2eca-410f-4d44-b193-e1837395cbb6",
   "metadata": {},
   "outputs": [],
   "source": [
    "integrator = mm.LangevinMiddleIntegrator(300*kelvin, 1/picosecond, 0.004*picoseconds)"
   ]
  },
  {
   "cell_type": "markdown",
   "id": "8e71997f-a865-49e1-804e-2e917e47dea9",
   "metadata": {},
   "source": [
    "#### Combinando la topología molecular, el sistema y el integrador para comenzar una nueva simulación\n",
    "\n",
    " Crea un objeto simulación y lo asigna a una variable llamada simulación."
   ]
  },
  {
   "cell_type": "code",
   "execution_count": null,
   "id": "ab7d55e2-39cf-49d3-a195-a00a4d13782b",
   "metadata": {},
   "outputs": [],
   "source": [
    "simulation = Simulation(pdb.topology, system, integrator)"
   ]
  },
  {
   "cell_type": "markdown",
   "id": "2d8b5e20-2db8-47fa-919f-63e13fbd9911",
   "metadata": {},
   "source": [
    "#### Especificando las posiciones iniciales de los átomos"
   ]
  },
  {
   "cell_type": "code",
   "execution_count": null,
   "id": "143cf7a4-27f3-44dc-a81d-095adaf4b14b",
   "metadata": {},
   "outputs": [],
   "source": [
    "simulation.context.setPositions(pdb.positions)"
   ]
  },
  {
   "cell_type": "markdown",
   "id": "383e6421-5c1f-4ff5-b39a-dcca69cf5365",
   "metadata": {},
   "source": [
    "#### Para realizar minimización de energía"
   ]
  },
  {
   "cell_type": "code",
   "execution_count": null,
   "id": "8a230a6e-2f84-4d8c-adb8-be1efd5cb40c",
   "metadata": {},
   "outputs": [],
   "source": [
    "simulation.minimizeEnergy()"
   ]
  },
  {
   "cell_type": "markdown",
   "id": "202ac4f1-7e61-4a52-a257-f12bb99354c9",
   "metadata": {},
   "source": [
    "#### Creación de reporteros"
   ]
  },
  {
   "cell_type": "code",
   "execution_count": null,
   "id": "55f98710-eaef-4379-97c8-8f03a84eeb92",
   "metadata": {},
   "outputs": [],
   "source": [
    "simulation.reporters.append(PDBReporter('output.pdb', 1000))\n",
    "\n"
   ]
  },
  {
   "cell_type": "markdown",
   "id": "f9f51b9a-223b-488a-9021-1da19b06f923",
   "metadata": {},
   "source": [
    "#### Segudo reportero?\n",
    "\n",
    "Esta línea agrega otro reportero para imprimir información básica cada 1000 pasos de tiempo: el índice de paso actual, la energía potencial del sistema y la temperatura."
   ]
  },
  {
   "cell_type": "code",
   "execution_count": null,
   "id": "a838a112-1ab2-485e-a551-a3254d015d58",
   "metadata": {},
   "outputs": [],
   "source": [
    "simulation.reporters.append(StateDataReporter(stdout, 1000, step=True,\n",
    "        potentialEnergy=True, temperature=True))\n",
    "\n"
   ]
  },
  {
   "cell_type": "markdown",
   "id": "71d1a2f6-aa73-4a03-ba3d-20d34e476479",
   "metadata": {},
   "source": [
    "#### Ejecutando la simulación para 10,000 pasos de tiempo"
   ]
  },
  {
   "cell_type": "code",
   "execution_count": null,
   "id": "7335549e-cbc5-4ff9-a632-8a4a6fb71c78",
   "metadata": {},
   "outputs": [],
   "source": [
    "simulation.step(10000)"
   ]
  }
 ],
 "metadata": {
  "kernelspec": {
   "display_name": "Python 3 (ipykernel)",
   "language": "python",
   "name": "python3"
  },
  "language_info": {
   "codemirror_mode": {
    "name": "ipython",
    "version": 3
   },
   "file_extension": ".py",
   "mimetype": "text/x-python",
   "name": "python",
   "nbconvert_exporter": "python",
   "pygments_lexer": "ipython3",
   "version": "3.10.11"
  }
 },
 "nbformat": 4,
 "nbformat_minor": 5
}
